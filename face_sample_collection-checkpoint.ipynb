{
 "cells": [
  {
   "cell_type": "code",
   "execution_count": 1,
   "metadata": {},
   "outputs": [],
   "source": [
    "import cv2\n",
    "import numpy as np\n",
    "import matplotlib.pyplot as plt"
   ]
  },
  {
   "cell_type": "code",
   "execution_count": 2,
   "metadata": {},
   "outputs": [],
   "source": [
    "face_cascade = cv2.CascadeClassifier('haarcascade_frontalface_default.xml')"
   ]
  },
  {
   "cell_type": "code",
   "execution_count": 3,
   "metadata": {},
   "outputs": [],
   "source": [
    "def face_finder(img):\n",
    "    gray = cv2.cvtColor(img, cv2.COLOR_BGR2GRAY)\n",
    "    face = face_cascade.detectMultiScale(gray, 1.3, 5)\n",
    "    if face is ():\n",
    "        return None\n",
    "    for(x,y,w,h) in face:            \n",
    "        croped_image = img[y:y+h, x:x+w]\n",
    "    return croped_image"
   ]
  },
  {
   "cell_type": "code",
   "execution_count": 4,
   "metadata": {},
   "outputs": [
    {
     "name": "stdout",
     "output_type": "stream",
     "text": [
      "Samples Collected\n"
     ]
    }
   ],
   "source": [
    "cap =cv2.VideoCapture(0)\n",
    "count = 0\n",
    "while True:\n",
    "    ret,frame = cap.read()\n",
    "    if face_finder(frame) is not None:\n",
    "        count +=1\n",
    "        face = cv2.resize(face_finder(frame),(300,300))\n",
    "        \n",
    "        #file_name_path = './face_images/srinu/'+str(count)+'.jpg'\n",
    "        #cv2.imwrite(file_name_path,face)\n",
    "        \n",
    "        cv2.putText(face,str(count),(50,50),cv2.FONT_HERSHEY_SIMPLEX,0.8,(0,255,0),2)\n",
    "        cv2.imshow('Frame',face)\n",
    "    else:\n",
    "        print('Face not found')\n",
    "        pass\n",
    "    if cv2.waitKey(1) == ord('q'):\n",
    "        break\n",
    "\n",
    "cap.release()\n",
    "cv2.destroyAllWindows()\n",
    "print('Samples Collected')"
   ]
  },
  {
   "cell_type": "code",
   "execution_count": null,
   "metadata": {},
   "outputs": [],
   "source": []
  }
 ],
 "metadata": {
  "kernelspec": {
   "display_name": "Python 3",
   "language": "python",
   "name": "python3"
  },
  "language_info": {
   "codemirror_mode": {
    "name": "ipython",
    "version": 3
   },
   "file_extension": ".py",
   "mimetype": "text/x-python",
   "name": "python",
   "nbconvert_exporter": "python",
   "pygments_lexer": "ipython3",
   "version": "3.7.3"
  }
 },
 "nbformat": 4,
 "nbformat_minor": 2
}
