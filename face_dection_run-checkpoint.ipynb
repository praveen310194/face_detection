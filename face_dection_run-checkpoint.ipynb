{
 "cells": [
  {
   "cell_type": "code",
   "execution_count": 1,
   "metadata": {},
   "outputs": [
    {
     "name": "stderr",
     "output_type": "stream",
     "text": [
      "Using TensorFlow backend.\n"
     ]
    }
   ],
   "source": [
    "import cv2\n",
    "from PIL import Image\n",
    "from keras.applications.vgg16 import preprocess_input\n",
    "from keras.models import load_model\n",
    "import numpy as np"
   ]
  },
  {
   "cell_type": "code",
   "execution_count": 2,
   "metadata": {},
   "outputs": [],
   "source": [
    "face_cascade = cv2.CascadeClassifier('haarcascade_frontalface_default.xml')"
   ]
  },
  {
   "cell_type": "code",
   "execution_count": 3,
   "metadata": {},
   "outputs": [
    {
     "name": "stdout",
     "output_type": "stream",
     "text": [
      "WARNING:tensorflow:From C:\\Users\\praveen\\Anaconda3\\lib\\site-packages\\keras\\backend\\tensorflow_backend.py:517: The name tf.placeholder is deprecated. Please use tf.compat.v1.placeholder instead.\n",
      "\n",
      "WARNING:tensorflow:From C:\\Users\\praveen\\Anaconda3\\lib\\site-packages\\keras\\backend\\tensorflow_backend.py:4138: The name tf.random_uniform is deprecated. Please use tf.random.uniform instead.\n",
      "\n",
      "WARNING:tensorflow:From C:\\Users\\praveen\\Anaconda3\\lib\\site-packages\\keras\\backend\\tensorflow_backend.py:3976: The name tf.nn.max_pool is deprecated. Please use tf.nn.max_pool2d instead.\n",
      "\n",
      "WARNING:tensorflow:From C:\\Users\\praveen\\Anaconda3\\lib\\site-packages\\keras\\backend\\tensorflow_backend.py:174: The name tf.get_default_session is deprecated. Please use tf.compat.v1.get_default_session instead.\n",
      "\n",
      "WARNING:tensorflow:From C:\\Users\\praveen\\Anaconda3\\lib\\site-packages\\keras\\backend\\tensorflow_backend.py:181: The name tf.ConfigProto is deprecated. Please use tf.compat.v1.ConfigProto instead.\n",
      "\n",
      "WARNING:tensorflow:From C:\\Users\\praveen\\Anaconda3\\lib\\site-packages\\keras\\backend\\tensorflow_backend.py:186: The name tf.Session is deprecated. Please use tf.compat.v1.Session instead.\n",
      "\n",
      "WARNING:tensorflow:From C:\\Users\\praveen\\Anaconda3\\lib\\site-packages\\keras\\optimizers.py:790: The name tf.train.Optimizer is deprecated. Please use tf.compat.v1.train.Optimizer instead.\n",
      "\n",
      "WARNING:tensorflow:From C:\\Users\\praveen\\Anaconda3\\lib\\site-packages\\tensorflow\\python\\ops\\math_grad.py:1250: add_dispatch_support.<locals>.wrapper (from tensorflow.python.ops.array_ops) is deprecated and will be removed in a future version.\n",
      "Instructions for updating:\n",
      "Use tf.where in 2.0, which has the same broadcast rule as np.where\n"
     ]
    }
   ],
   "source": [
    "from keras.preprocessing import image\n",
    "model = load_model('facefeatures_new_model.h5')"
   ]
  },
  {
   "cell_type": "code",
   "execution_count": 4,
   "metadata": {},
   "outputs": [],
   "source": [
    "def face_finder(img):\n",
    "    gray = cv2.cvtColor(img, cv2.COLOR_BGR2GRAY)\n",
    "    face = face_cascade.detectMultiScale(gray, 1.3, 5)\n",
    "    if face is ():\n",
    "        return None,()\n",
    "    for(x,y,w,h) in face:            \n",
    "        croped_image = img[y:y+h, x:x+w]\n",
    "    return croped_image,(x,y,w,h)"
   ]
  },
  {
   "cell_type": "code",
   "execution_count": null,
   "metadata": {},
   "outputs": [],
   "source": [
    "video_capture = cv2.VideoCapture(0)\n",
    "while True:\n",
    "    _, frame = video_capture.read()\n",
    "    face_get,leng =face_finder(frame)\n",
    "    if type(face_get) is np.ndarray:\n",
    "        face = cv2.resize(face_get, (224, 224))\n",
    "        im = Image.fromarray(face, 'RGB') # im =PIL.Image.Image image mode=RGB size=224x224 at 0x1C80C53B198\n",
    "        \n",
    "        img_array = np.array(im) # img_array.shape = (224, 224, 3)\n",
    "        \n",
    "        img_array = np.expand_dims(img_array, axis=0) # img_array.shape = (1,224, 224, 3)\n",
    "        \n",
    "        pred = model.predict(img_array)\n",
    "        pred1=np.argmax(pred, axis=1)[:]\n",
    "        name=\"None matching\"\n",
    "        if(pred[0][0]>0.5):            \n",
    "            name='praveen'\n",
    "        else:            \n",
    "            name='srinu'\n",
    "        \n",
    "        cv2.rectangle(frame,(leng[0],leng[1]),(leng[0]+leng[3],leng[1]+leng[2]),(55,150,77),2)\n",
    "        cv2.putText(frame,name, (50, 50), cv2.FONT_HERSHEY_COMPLEX, 1, (0,255,0), 2)        \n",
    "    else:\n",
    "        cv2.putText(frame,\"No face found\", (50, 50), cv2.FONT_HERSHEY_COMPLEX, 1, (0,0,255), 2)\n",
    "        pass\n",
    "    cv2.imshow('Video', frame)\n",
    "    if cv2.waitKey(1) & 0xFF == ord('q'):\n",
    "        break\n",
    "        \n",
    "video_capture.release()\n",
    "cv2.destroyAllWindows()    "
   ]
  },
  {
   "cell_type": "code",
   "execution_count": 19,
   "metadata": {},
   "outputs": [
    {
     "data": {
      "text/plain": [
       "array([[[[ 81,  86,  96],\n",
       "         [ 81,  86,  96],\n",
       "         [ 81,  86,  96],\n",
       "         ...,\n",
       "         [107, 112, 118],\n",
       "         [110, 114, 120],\n",
       "         [112, 115, 121]],\n",
       "\n",
       "        [[ 81,  86,  96],\n",
       "         [ 81,  86,  96],\n",
       "         [ 81,  86,  96],\n",
       "         ...,\n",
       "         [108, 112, 118],\n",
       "         [111, 114, 120],\n",
       "         [112, 115, 122]],\n",
       "\n",
       "        [[ 82,  87,  97],\n",
       "         [ 82,  87,  97],\n",
       "         [ 82,  87,  97],\n",
       "         ...,\n",
       "         [108, 113, 119],\n",
       "         [112, 115, 121],\n",
       "         [114, 116, 122]],\n",
       "\n",
       "        ...,\n",
       "\n",
       "        [[ 53,  67,  84],\n",
       "         [ 53,  66,  83],\n",
       "         [ 52,  66,  81],\n",
       "         ...,\n",
       "         [ 91, 100, 111],\n",
       "         [ 94, 104, 114],\n",
       "         [ 96, 106, 115]],\n",
       "\n",
       "        [[ 50,  64,  81],\n",
       "         [ 50,  64,  80],\n",
       "         [ 50,  63,  79],\n",
       "         ...,\n",
       "         [ 90,  99, 110],\n",
       "         [ 94, 104, 114],\n",
       "         [ 97, 107, 116]],\n",
       "\n",
       "        [[ 49,  63,  80],\n",
       "         [ 49,  63,  79],\n",
       "         [ 49,  62,  77],\n",
       "         ...,\n",
       "         [ 90,  99, 109],\n",
       "         [ 94, 104, 114],\n",
       "         [ 97, 107, 116]]]], dtype=uint8)"
      ]
     },
     "execution_count": 19,
     "metadata": {},
     "output_type": "execute_result"
    }
   ],
   "source": [
    "img_array"
   ]
  },
  {
   "cell_type": "code",
   "execution_count": 20,
   "metadata": {},
   "outputs": [],
   "source": [
    "pred = model.predict(img_array)"
   ]
  },
  {
   "cell_type": "code",
   "execution_count": 21,
   "metadata": {},
   "outputs": [
    {
     "data": {
      "text/plain": [
       "array([[1., 0.]], dtype=float32)"
      ]
     },
     "execution_count": 21,
     "metadata": {},
     "output_type": "execute_result"
    }
   ],
   "source": [
    "pred"
   ]
  },
  {
   "cell_type": "code",
   "execution_count": null,
   "metadata": {},
   "outputs": [],
   "source": []
  }
 ],
 "metadata": {
  "kernelspec": {
   "display_name": "Python 3",
   "language": "python",
   "name": "python3"
  },
  "language_info": {
   "codemirror_mode": {
    "name": "ipython",
    "version": 3
   },
   "file_extension": ".py",
   "mimetype": "text/x-python",
   "name": "python",
   "nbconvert_exporter": "python",
   "pygments_lexer": "ipython3",
   "version": "3.7.3"
  }
 },
 "nbformat": 4,
 "nbformat_minor": 2
}
